{
 "cells": [
  {
   "cell_type": "code",
   "execution_count": 2,
   "metadata": {},
   "outputs": [],
   "source": [
    "import pandas as pd\n",
    "df8=pd.read_excel('D:\\Projectdata.xlsx')"
   ]
  },
  {
   "cell_type": "code",
   "execution_count": 3,
   "metadata": {},
   "outputs": [],
   "source": [
    "df8['place_latitude']=df8['place_latitude'].astype('float64')\n",
    "df8['place_long']=df8['place_long'].astype('float64')\n"
   ]
  },
  {
   "cell_type": "code",
   "execution_count": 4,
   "metadata": {},
   "outputs": [],
   "source": [
    "slot1=df8.loc[(df8.class_start_timeD>=8.00) & (df8.class_start_timeD<=8.30),: ]\n",
    "slot2=df8.loc[(df8.class_start_timeD>8.30) & (df8.class_start_timeD<=10.30),: ]\n",
    "slot3=df8.loc[(df8.class_start_timeD>10.30) & (df8.class_start_timeD<=13.00),: ]"
   ]
  },
  {
   "cell_type": "code",
   "execution_count": 5,
   "metadata": {},
   "outputs": [
    {
     "data": {
      "text/plain": [
       "<Figure size 640x480 with 1 Axes>"
      ]
     },
     "metadata": {},
     "output_type": "display_data"
    }
   ],
   "source": [
    "import sklearn\n",
    "from sklearn.cluster import DBSCAN\n",
    "from sklearn.cluster import KMeans\n",
    "import numpy as np\n",
    "import matplotlib.pyplot as plt\n",
    "from matplotlib import style\n",
    "style.use('ggplot')\n",
    "\n",
    "#coords=df8.as_matrix(columns=['place_latitude','place_long'])\n",
    "#db=DBSCAN(eps=0.2,min_samples=3,algorithm='ball_tree',metric='haversine').fit(np.radians(coords))\n",
    "X= df8.iloc[:,6:8]\n",
    "X = np.array(X)\n",
    "\n",
    "clf = KMeans(n_clusters=4)\n",
    "clf.fit(X)\n",
    "\n",
    "centroids=clf.cluster_centers_\n",
    "labels=clf.labels_\n",
    "\n",
    "colors = 10*[\"g.\",\"r.\",\"b.\",\"k.\"]\n",
    "\n",
    "for i in range(len(X)):\n",
    "    plt.plot(X[i][0],X[i][1],colors[labels[i]],markersize=25)\n",
    "plt.scatter(centroids[:,0],centroids[:,1],marker='x',s=150,linewidths=5)\n",
    "plt.show()"
   ]
  },
  {
   "cell_type": "code",
   "execution_count": 21,
   "metadata": {},
   "outputs": [
    {
     "name": "stdout",
     "output_type": "stream",
     "text": [
      "{(22.513531, 88.301537), (23.743617, 90.426681), (23.722595, 90.429585), (33.24981, 74.26156), (23.734558, 90.384998), (26.78293, 82.1501), (23.751791, 90.385936), (23.780232, 90.401148), (23.727835, 90.374046), (23.7636971, 90.3706906), (23.758353, 90.416229), (23.7956, 90.3537), (23.807085049999, 90.3686128112537), (23.776604, 90.382988), (23.730534, 90.446159), (-32.34861, 151.924576), (23.7786, 90.4156), (27.883743, 79.912247), (23.873751, 90.396454), (23.797911, 90.414391), (23.744602, 90.411456), (23.759815, 90.391319), (23.746188, 90.38987), (23.758861, 90.35858), (23.7571291, 90.3685188), (23.7718, 90.3631), (23.7676, 90.4147), (23.760223, 90.411561), (23.814654, 90.362371), (23.701443, 90.442194), (23.761227, 90.420769), (23.75027, 90.43413), (23.697285, 90.431817), (40.28236, -79.69305), (23.7213894, 90.4299279), (23.737286, 90.37161), (23.828959, 90.375672), (23.80708505, 90.36861281), (23.738078, 90.372485), (23.7325976, 90.4025838), (23.729556, 90.429214), (23.693846, 90.455336), (23.70731, 90.415482), (23.70731, 90.41548), (23.838511, 90.224784), (23.708022, 90.417885), (23.761888, 90.390841), (23.7658, 90.3584), (23.722109, 90.426212), (23.768518, 90.425641), (23.7561067, 90.3871960999999), (23.7382, 90.4143)}\n"
     ]
    }
   ],
   "source": [
    "df8['place_latitude']=df8['place_latitude'].astype('float64')\n",
    "df8['place_long']=df8['place_long'].astype('float64')\n",
    "\n",
    "latitude_list=df8.iloc[:,6]\n",
    "longitude_list=df8.iloc[:,7]\n",
    "lat_long=zip(latitude_list,longitude_list)\n",
    "lat_long = set(lat_long)\n",
    "print(lat_long)"
   ]
  },
  {
   "cell_type": "code",
   "execution_count": 17,
   "metadata": {},
   "outputs": [],
   "source": [
    "\n",
    "import gmplot \n"
   ]
  },
  {
   "cell_type": "code",
   "execution_count": 245,
   "metadata": {
    "scrolled": true
   },
   "outputs": [],
   "source": [
    "from gmplot import gmplot\n",
    "\n",
    "# Place map\n",
    "gmap = gmplot.GoogleMapPlotter(23.7638, 90.4069, 13)\n",
    "\n",
    "# Polygon\n",
    "# Scatter points\n",
    "X=df8.loc[:,['place_latitude','place_long']]\n",
    "\n",
    "gmap.scatter(X.place_latitude.values,X.place_long.values, c='white', size=100, marker=False)\n",
    "\n",
    "# Marker\n",
    "hidden_gem_lat, hidden_gem_lon = 23.7638, 90.4069\n",
    "gmap.marker(hidden_gem_lat, hidden_gem_lon, 'cornflowerblue')\n",
    "\n",
    "# Draw\n",
    "gmap.draw(\"C:\\\\Users\\\\user\\\\Desktop\\\\whole_map.html\")"
   ]
  },
  {
   "cell_type": "code",
   "execution_count": 246,
   "metadata": {},
   "outputs": [],
   "source": [
    "import numpy as np\n",
    "import pandas as pd\n",
    "import matplotlib.pyplot as plt\n",
    "from sklearn.cluster import KMeans\n",
    "from collections import Counter"
   ]
  },
  {
   "cell_type": "code",
   "execution_count": 247,
   "metadata": {},
   "outputs": [
    {
     "data": {
      "image/png": "[encoded data removed]",
      "text/plain": [
       "<Figure size 864x864 with 1 Axes>"
      ]
     },
     "metadata": {},
     "output_type": "display_data"
    }
   ],
   "source": [
    "X=df8.loc[:,['place_latitude','place_long']]\n",
    "kmeans = KMeans(n_clusters=8, random_state=0).fit(X)\n",
    "id_label=kmeans.labels_\n",
    "gmap2 = gmplot.GoogleMapPlotter(23.7638, 90.4069, 13)\n",
    "ptsymb = np.array(['b.','g.','r.','c.','m.','y.','k.','c.']);\n",
    "ptsymb2 = np.array(['yellow','green','red','cyan','megenta','blue','black','white']);\n",
    "plt.figure(figsize=(12,12))\n",
    "plt.ylabel('Longitude', fontsize=12)\n",
    "plt.xlabel('Latitude', fontsize=12)\n",
    "for i in range(8):\n",
    "    cluster=np.where(id_label==i)[0]\n",
    "    plt.plot(X.place_latitude[cluster].values,X.place_long[cluster].values,ptsymb[i])\n",
    "    gmap2.scatter(X.place_latitude[cluster].values,X.place_long[cluster].values, c=ptsymb2[i], size=100, marker=False)\n",
    "#cluster=np.where(id_label==2)[0]\n",
    "#plt.plot(X.place_latitude[cluster].values,X.place_long[cluster].values,'g.')\n",
    "plt.show()\n",
    "#gmap2.heatmap(latitude, longitude)\n",
    "#gmap2.scatter(X.place_latitude[cluster].values,X.place_long[cluster].values, c='red', size=100, marker=False)\n",
    "#print(X.place_long[cluster].values)\n",
    "#print(X.place_latitude[cluster].values)\n",
    "gmap2.draw(\"C:\\\\Users\\\\user\\\\Desktop\\\\whole_map_clust.html\")"
   ]
  },
  {
   "cell_type": "code",
   "execution_count": 92,
   "metadata": {},
   "outputs": [],
   "source": [
    "slot1=df8.loc[(df8.class_start_timeD>=8.00) & (df8.class_start_timeD<=8.30),: ]\n",
    "slot2=df8.loc[(df8.class_start_timeD>8.30) & (df8.class_start_timeD<=10.30),: ]\n",
    "slot3=df8.loc[(df8.class_start_timeD>10.30) & (df8.class_start_timeD<=13.00),: ]"
   ]
  },
  {
   "cell_type": "code",
   "execution_count": 113,
   "metadata": {},
   "outputs": [],
   "source": [
    "from gmplot import gmplot\n",
    "\n",
    "# Place map\n",
    "gmap = gmplot.GoogleMapPlotter(23.7638, 90.4069, 13)\n",
    "\n",
    "# Polygon\n",
    "# Scatter points\n",
    "X1=slot1.loc[:,['place_latitude','place_long']]\n",
    "#gmap.heatmap( X1.place_latitude.values,X1.place_long.values ) \n",
    "gmap.scatter(X1.place_latitude.values,X1.place_long.values, c='red', size=100, marker=False)#\n",
    "#gmap2.plot(X.place_latitude.values,X.place_long.values, 'cornflowerblue', edge_width = 2.5)\n",
    "# Marker\n",
    "hidden_gem_lat, hidden_gem_lon = 23.7638, 90.4069\n",
    "gmap.marker(hidden_gem_lat, hidden_gem_lon, 'cornflowerblue')\n",
    "\n",
    "# Draw\n",
    "gmap.draw(\"C:\\\\Users\\\\user\\\\Desktop\\\\slot1.html\")"
   ]
  },
  {
   "cell_type": "code",
   "execution_count": 114,
   "metadata": {},
   "outputs": [],
   "source": [
    "from gmplot import gmplot\n",
    "\n",
    "# Place map\n",
    "gmap = gmplot.GoogleMapPlotter(23.7638, 90.4069, 13)\n",
    "\n",
    "# Polygon\n",
    "# Scatter points\n",
    "X2=slot2.loc[:,['place_latitude','place_long']]\n",
    "#gmap.heatmap( X2.place_latitude.values,X2.place_long.values ) \n",
    "gmap.scatter(X2.place_latitude.values,X2.place_long.values, c='red', size=100, marker=False)#\n",
    "#gmap2.plot(X.place_latitude.values,X.place_long.values, 'cornflowerblue', edge_width = 2.5)\n",
    "# Marker\n",
    "hidden_gem_lat, hidden_gem_lon = 23.7638, 90.4069\n",
    "gmap.marker(hidden_gem_lat, hidden_gem_lon, 'cornflowerblue')\n",
    "\n",
    "# Draw\n",
    "gmap.draw(\"C:\\\\Users\\\\user\\\\Desktop\\\\slot2.html\")"
   ]
  },
  {
   "cell_type": "code",
   "execution_count": 120,
   "metadata": {},
   "outputs": [],
   "source": [
    "from gmplot import gmplot\n",
    "\n",
    "# Place map\n",
    "gmap = gmplot.GoogleMapPlotter(23.7638, 90.4069, 13)\n",
    "\n",
    "# Polygon\n",
    "# Scatter points\n",
    "X3=slot3.loc[:,['place_latitude','place_long']]\n",
    "#gmap.heatmap( X2.place_latitude.values,X2.place_long.values ) \n",
    "gmap.scatter(X3.place_latitude.values,X3.place_long.values, c='white', size=100, marker=False)#\n",
    "#gmap2.plot(X.place_latitude.values,X.place_long.values, 'cornflowerblue', edge_width = 2.5)\n",
    "# Marker\n",
    "hidden_gem_lat, hidden_gem_lon = 23.7638, 90.4069\n",
    "gmap.marker(hidden_gem_lat, hidden_gem_lon, 'cornflowerblue')\n",
    "\n",
    "# Draw\n",
    "gmap.draw(\"C:\\\\Users\\\\user\\\\Desktop\\\\slot3.html\")"
   ]
  },
  {
   "cell_type": "code",
   "execution_count": 129,
   "metadata": {},
   "outputs": [
    {
     "name": "stdout",
     "output_type": "stream",
     "text": [
      "latitude:  0  :  [23.738078   23.838511   23.761888   23.758861   23.7571291  23.7718\n",
      " 23.738078   23.7676     23.814654   23.7658     23.737286   23.828959\n",
      " 23.873751   23.759815   23.776604   23.759815   23.80708505 23.797911\n",
      " 23.80708505 23.751791   23.746188   23.7636971  23.7786     23.780232\n",
      " 23.7956     23.7561067 ]\n",
      "long:  0  :  [90.372485   90.224784   90.390841   90.35858    90.3685188  90.3631\n",
      " 90.372485   90.4147     90.362371   90.3584     90.37161    90.375672\n",
      " 90.396454   90.391319   90.382988   90.391319   90.36861281 90.414391\n",
      " 90.36861281 90.385936   90.38987    90.3706906  90.4156     90.401148\n",
      " 90.3537     90.3871961 ]\n",
      "<class 'numpy.ndarray'>\n",
      "latitude:  1  :  [40.28236]\n",
      "long:  1  :  [-79.69305]\n",
      "<class 'numpy.ndarray'>\n",
      "latitude:  2  :  [-32.34861]\n",
      "long:  2  :  [151.924576]\n",
      "<class 'numpy.ndarray'>\n",
      "latitude:  3  :  [27.883743]\n",
      "long:  3  :  [79.912247]\n",
      "<class 'numpy.ndarray'>\n",
      "latitude:  4  :  [33.24981]\n",
      "long:  4  :  [74.26156]\n",
      "<class 'numpy.ndarray'>\n",
      "latitude:  5  :  [26.78293]\n",
      "long:  5  :  [82.1501]\n",
      "<class 'numpy.ndarray'>\n",
      "latitude:  6  :  [22.513531]\n",
      "long:  6  :  [88.301537]\n",
      "<class 'numpy.ndarray'>\n",
      "latitude:  7  :  [23.693846  23.729556  23.7325976 23.70731   23.70731   23.708022\n",
      " 23.760223  23.70731   23.70731   23.701443  23.761227  23.70731\n",
      " 23.70731   23.75027   23.761227  23.701443  23.697285  23.722109\n",
      " 23.734558  23.70731   23.761227  23.70731   23.768518  23.70731\n",
      " 23.70731   23.743617  23.7382    23.70731   23.730534  23.7213894\n",
      " 23.70731   23.70731   23.70731   23.727835  23.722595  23.7382\n",
      " 23.70731   23.744602  23.758353  23.70731  ]\n",
      "long:  7  :  [90.455336  90.429214  90.4025838 90.415482  90.41548   90.417885\n",
      " 90.411561  90.415482  90.41548   90.442194  90.420769  90.41548\n",
      " 90.41548   90.43413   90.420769  90.442194  90.431817  90.426212\n",
      " 90.384998  90.41548   90.420769  90.41548   90.425641  90.41548\n",
      " 90.41548   90.426681  90.4143    90.41548   90.446159  90.4299279\n",
      " 90.41548   90.415482  90.41548   90.374046  90.429585  90.4143\n",
      " 90.41548   90.411456  90.416229  90.41548  ]\n",
      "<class 'numpy.ndarray'>\n"
     ]
    },
    {
     "data": {
      "image/png": "[encoded data removed]",
      "text/plain": [
       "<Figure size 864x864 with 1 Axes>"
      ]
     },
     "metadata": {},
     "output_type": "display_data"
    }
   ],
   "source": [
    "X=df8.loc[:,['place_latitude','place_long']]\n",
    "kmeans = KMeans(n_clusters=8, random_state=0).fit(X)\n",
    "id_label=kmeans.labels_\n",
    "gmap2 = gmplot.GoogleMapPlotter(23.7638, 90.4069, 13)\n",
    "ptsymb = np.array(['b.','g.','r.','c.','m.','y.','k.','c.']);\n",
    "ptsymb2 = np.array(['yellow','green','red','white','megenta','blue','black','cyan']);\n",
    "plt.figure(figsize=(12,12))\n",
    "plt.ylabel('Longitude', fontsize=12)\n",
    "plt.xlabel('Latitude', fontsize=12)\n",
    "for i in range(8):\n",
    "    cluster=np.where(id_label==i)[0]\n",
    "    plt.plot(X.place_latitude[cluster].values,X.place_long[cluster].values,ptsymb[i])\n",
    "    gmap2.scatter(X.place_latitude[cluster].values,X.place_long[cluster].values, c=ptsymb2[i], size=100, marker=False)\n",
    "    print(\"latitude: \",i,\" : \", X.place_latitude[cluster].values)\n",
    "    print(\"long: \",i,\" : \", X.place_long[cluster].values)\n",
    "    print(type(X.place_latitude[cluster].values))\n",
    "    \n",
    "#cluster=np.where(id_label==2)[0]\n",
    "#plt.plot(X.place_latitude[cluster].values,X.place_long[cluster].values,'g.')\n",
    "plt.show()\n",
    "#gmap2.heatmap(latitude, longitude)\n",
    "#gmap2.scatter(X.place_latitude[cluster].values,X.place_long[cluster].values, c='red', size=100, marker=False)\n",
    "#print(X.place_long[cluster].values)\n",
    "#print(X.place_latitude[cluster].values)\n",
    "gmap2.draw(\"C:\\\\Users\\\\user\\\\Desktop\\\\whole_map_cluster.html\")"
   ]
  },
  {
   "cell_type": "code",
   "execution_count": 152,
   "metadata": {},
   "outputs": [
    {
     "name": "stdout",
     "output_type": "stream",
     "text": [
      "    index  place_latitude  place_long\n",
      "0       2       40.282360  -79.693050\n",
      "1       5       23.707310   90.415482\n",
      "2       7       23.838511   90.224784\n",
      "3       8       23.708022   90.417885\n",
      "4      12       23.771800   90.363100\n",
      "5      20       23.761227   90.420769\n",
      "6      28       23.765800   90.358400\n",
      "7      29      -32.348610  151.924576\n",
      "8      30       23.737286   90.371610\n",
      "9      31       23.828959   90.375672\n",
      "10     34       23.734558   90.384998\n",
      "11     37       23.761227   90.420769\n",
      "12     43       23.776604   90.382988\n",
      "13     44       33.249810   74.261560\n",
      "14     45       23.738200   90.414300\n",
      "15     46       23.707310   90.415480\n",
      "16     48       23.730534   90.446159\n",
      "17     51       23.707310   90.415480\n",
      "18     54       23.807085   90.368613\n",
      "19     55       23.707310   90.415480\n",
      "20     56       23.751791   90.385936\n",
      "21     59       23.746188   90.389870\n",
      "22     66       26.782930   82.150100\n",
      "23     67       23.795600   90.353700\n",
      "latitude:  0  :  [23.761227   23.776604   33.24981    23.7382     23.70731    23.730534\n",
      " 23.70731    23.80708505 23.70731    23.751791   23.746188   26.78293\n",
      " 23.7956    ]\n",
      "long:  0  :  [90.420769   90.382988   74.26156    90.4143     90.41548    90.446159\n",
      " 90.41548    90.36861281 90.41548    90.385936   90.38987    82.1501\n",
      " 90.3537    ]\n",
      "latitude:  1  :  [40.28236]\n",
      "long:  1  :  [-79.69305]\n",
      "latitude:  2  :  [-32.34861]\n",
      "long:  2  :  [151.924576]\n",
      "latitude:  3  :  [23.70731  23.838511 23.708022 23.7718   23.761227 23.7658   23.737286\n",
      " 23.828959 23.734558]\n",
      "long:  3  :  [90.415482 90.224784 90.417885 90.3631   90.420769 90.3584   90.37161\n",
      " 90.375672 90.384998]\n"
     ]
    },
    {
     "data": {
      "image/png": "[encoded data removed]",
      "text/plain": [
       "<Figure size 864x864 with 1 Axes>"
      ]
     },
     "metadata": {},
     "output_type": "display_data"
    }
   ],
   "source": [
    "X1=slot1.loc[:,['place_latitude','place_long']]\n",
    "X1.reset_index(inplace = True)\n",
    "print(X1)\n",
    "kmeans = KMeans(n_clusters=4, random_state=0).fit(X1)\n",
    "id_label=kmeans.labels_\n",
    "gmap2 = gmplot.GoogleMapPlotter(23.7638, 90.4069, 13)\n",
    "ptsymb = np.array(['b.','g.','r.','c.','m.','y.','k.','c.']);\n",
    "ptsymb2 = np.array(['yellow','green','red','white','megenta','blue','black','cyan']);\n",
    "plt.figure(figsize=(12,12))\n",
    "plt.ylabel('Longitude', fontsize=12)\n",
    "plt.xlabel('Latitude', fontsize=12)\n",
    "highest_length=0\n",
    "j=0\n",
    "for i in range(4):\n",
    "    cluster=np.where(id_label==i)[0]\n",
    "    if (len(X1.place_latitude) >= highest_length):\n",
    "       highest_length=len(X1.place_latitude)\n",
    "       j=cluster\n",
    "    plt.plot(X1.place_latitude[cluster].values,X1.place_long[cluster].values,ptsymb[i])\n",
    "    gmap2.scatter(X1.place_latitude[cluster].values,X1.place_long[cluster].values,c=ptsymb2[i], size=100, marker=False)\n",
    "     \n",
    "    print(\"latitude: \",i,\" : \", X1.place_latitude[cluster].values)\n",
    "    print(\"long: \",i,\" : \", X1.place_long[cluster].values)\n",
    "gmap2.plot(X1.place_latitude[j].values,X1.place_long[j].values, edge_width = 2.5)    \n",
    "#cluster=np.where(id_label==2)[0]\n",
    "#plt.plot(X.place_latitude[cluster].values,X.place_long[cluster].values,'g.')\n",
    "plt.show()\n",
    "#gmap2.heatmap(latitude, longitude)\n",
    "#gmap2.scatter(X.place_latitude[cluster].values,X.place_long[cluster].values, c='red', size=100, marker=False)\n",
    "#print(X.place_long[cluster].values)\n",
    "#print(X.place_latitude[cluster].values)\n",
    "gmap2.draw(\"C:\\\\Users\\\\user\\\\Desktop\\\\slot1_cluster.html\")"
   ]
  },
  {
   "cell_type": "code",
   "execution_count": 155,
   "metadata": {},
   "outputs": [
    {
     "name": "stdout",
     "output_type": "stream",
     "text": [
      "    place_latitude  place_long\n",
      "0        23.738078   90.372485\n",
      "1        23.729556   90.429214\n",
      "2        23.707310   90.415480\n",
      "3        23.761888   90.390841\n",
      "4        23.757129   90.368519\n",
      "5        23.738078   90.372485\n",
      "6        23.767600   90.414700\n",
      "7        23.760223   90.411561\n",
      "8        23.814654   90.362371\n",
      "9        23.707310   90.415480\n",
      "10       23.701443   90.442194\n",
      "11       23.707310   90.415480\n",
      "12       23.707310   90.415480\n",
      "13       27.883743   79.912247\n",
      "14       23.750270   90.434130\n",
      "15       23.761227   90.420769\n",
      "16       23.701443   90.442194\n",
      "17       23.697285   90.431817\n",
      "18       23.722109   90.426212\n",
      "19       23.873751   90.396454\n",
      "20       23.707310   90.415480\n",
      "21       23.759815   90.391319\n",
      "22       23.707310   90.415480\n",
      "23       23.768518   90.425641\n",
      "24       23.707310   90.415480\n",
      "25       23.707310   90.415480\n",
      "26       23.743617   90.426681\n",
      "27       23.759815   90.391319\n",
      "28       23.721389   90.429928\n",
      "29       23.807085   90.368613\n",
      "30       23.797911   90.414391\n",
      "31       23.707310   90.415482\n",
      "32       23.727835   90.374046\n",
      "33       23.722595   90.429585\n",
      "34       23.763697   90.370691\n",
      "35       23.707310   90.415480\n",
      "36       23.744602   90.411456\n",
      "37       23.778600   90.415600\n",
      "38       23.780232   90.401148\n",
      "39       23.758353   90.416229\n",
      "40       23.707310   90.415480\n",
      "41       23.756107   90.387196\n",
      "latitude:  0  :  [23.70731  23.70731  27.883743 23.75027  23.761227 23.701443 23.697285\n",
      " 23.722109 23.873751 23.70731  23.759815 23.70731  23.768518]\n",
      "long:  0  :  [90.41548  90.41548  79.912247 90.43413  90.420769 90.442194 90.431817\n",
      " 90.426212 90.396454 90.41548  90.391319 90.41548  90.425641]\n",
      "latitude:  1  :  [23.738078]\n",
      "long:  1  :  [90.372485]\n",
      "latitude:  2  :  [23.760223]\n",
      "long:  2  :  [90.411561]\n",
      "latitude:  3  :  [23.729556  23.70731   23.761888  23.7571291 23.738078  23.7676\n",
      " 23.814654  23.70731   23.701443 ]\n",
      "long:  3  :  [90.429214  90.41548   90.390841  90.3685188 90.372485  90.4147\n",
      " 90.362371  90.41548   90.442194 ]\n"
     ]
    },
    {
     "data": {
      "image/png": "[encoded data removed]",
      "text/plain": [
       "<Figure size 864x864 with 1 Axes>"
      ]
     },
     "metadata": {},
     "output_type": "display_data"
    }
   ],
   "source": [
    "X2=slot2.loc[:,['place_latitude','place_long']]\n",
    "X2.reset_index(inplace = True)\n",
    "del X2['index']\n",
    "print(X2)\n",
    "kmeans = KMeans(n_clusters=4, random_state=0).fit(X1)\n",
    "id_label=kmeans.labels_\n",
    "gmap3 = gmplot.GoogleMapPlotter(23.7638, 90.4069, 13)\n",
    "ptsymb = np.array(['b.','g.','r.','c.','m.','y.','k.','c.']);\n",
    "ptsymb2 = np.array(['yellow','green','red','white','megenta','blue','black','cyan']);\n",
    "plt.figure(figsize=(12,12))\n",
    "plt.ylabel('Longitude', fontsize=12)\n",
    "plt.xlabel('Latitude', fontsize=12)\n",
    "highest_length=0\n",
    "j=0\n",
    "for i in range(4):\n",
    "    cluster=np.where(id_label==i)[0]\n",
    "    if (len(X2.place_latitude) >= highest_length):\n",
    "       highest_length=len(X2.place_latitude)\n",
    "       j=cluster\n",
    "    plt.plot(X2.place_latitude[cluster].values,X2.place_long[cluster].values,ptsymb[i])\n",
    "    gmap3.scatter(X2.place_latitude[cluster].values,X2.place_long[cluster].values,c=ptsymb2[i], size=100, marker=False)\n",
    "     \n",
    "    print(\"latitude: \",i,\" : \", X2.place_latitude[cluster].values)\n",
    "    print(\"long: \",i,\" : \", X2.place_long[cluster].values)\n",
    "gmap3.plot(X2.place_latitude[j].values,X2.place_long[j].values, edge_width = 2.5)    \n",
    "#cluster=np.where(id_label==2)[0]\n",
    "#plt.plot(X.place_latitude[cluster].values,X.place_long[cluster].values,'g.')\n",
    "plt.show()\n",
    "#gmap2.heatmap(latitude, longitude)\n",
    "#gmap2.scatter(X.place_latitude[cluster].values,X.place_long[cluster].values, c='red', size=100, marker=False)\n",
    "#print(X.place_long[cluster].values)\n",
    "#print(X.place_latitude[cluster].values)\n",
    "gmap3.draw(\"C:\\\\Users\\\\user\\\\Desktop\\\\slot2_cluster.html\")"
   ]
  },
  {
   "cell_type": "code",
   "execution_count": 216,
   "metadata": {},
   "outputs": [
    {
     "data": {
      "image/png": "[encoded data removed]",
      "text/plain": [
       "<Figure size 864x864 with 1 Axes>"
      ]
     },
     "metadata": {},
     "output_type": "display_data"
    }
   ],
   "source": [
    "from sklearn.preprocessing import StandardScaler\n",
    "X1=slot1.loc[:,['place_latitude','place_long']]\n",
    "X1.reset_index(inplace = True)\n",
    "del X1['index']\n",
    "\n",
    "gmap = gmplot.GoogleMapPlotter(23.7638, 90.4069, 13)\n",
    "db = DBSCAN(eps=0.123, min_samples=5, algorithm='ball_tree').fit(X1)\n",
    "cluster_labels = db.labels_\n",
    "n_clusters = len(set(cluster_labels))\n",
    "clusters = pd.Series([X1[cluster_labels == n] for n in range(-1, n_clusters)])\n",
    "plt.figure(figsize = (12, 12))\n",
    "ptsymb2 = np.array(['green','yellow','red','white','megenta','blue','black','cyan']);\n",
    "ptsymb = np.array(['b.','g.','r.','c.','m.','y.','k.','c.']);\n",
    "for i, cluster in enumerate(clusters):\n",
    "    \n",
    "    lons_select = cluster['place_long']\n",
    "    lats_select = cluster['place_latitude']\n",
    "    plt.plot(lats_select.values,lons_select.values,ptsymb[i])\n",
    "    gmap.scatter(lats_select.values,lons_select.values,c=ptsymb2[i], size=100, marker=False)\n",
    "    #x, y = m(lons_select, lats_select)\n",
    "plt.show()\n",
    "gmap.draw(\"C:\\\\Users\\\\user\\\\Desktop\\\\slot1_DBMScluster.html\")"
   ]
  },
  {
   "cell_type": "code",
   "execution_count": 248,
   "metadata": {},
   "outputs": [
    {
     "data": {
      "image/png": "[encoded data removed]",
      "text/plain": [
       "<Figure size 864x864 with 1 Axes>"
      ]
     },
     "metadata": {},
     "output_type": "display_data"
    }
   ],
   "source": [
    "from sklearn.preprocessing import StandardScaler\n",
    "X2=slot2.loc[:,['place_latitude','place_long']]\n",
    "X2.reset_index(inplace = True)\n",
    "del X2['index']\n",
    "\n",
    "gmap = gmplot.GoogleMapPlotter(23.7638, 90.4069, 13)\n",
    "db = DBSCAN(eps=0.02, min_samples=8, algorithm='ball_tree').fit(X2)\n",
    "cluster_labels = db.labels_\n",
    "n_clusters = len(set(cluster_labels))\n",
    "clusters = pd.Series([X2[cluster_labels == n] for n in range(-1, n_clusters)])\n",
    "plt.figure(figsize = (12, 12))\n",
    "ptsymb2 = np.array(['cyan','yellow','red','white','megenta','blue','black','green']);\n",
    "ptsymb = np.array(['b.','g.','r.','c.','m.','y.','k.','c.']);\n",
    "for i, cluster in enumerate(clusters):\n",
    "    \n",
    "    lons_select = cluster['place_long']\n",
    "    lats_select = cluster['place_latitude']\n",
    "    plt.plot(lats_select.values,lons_select.values,ptsymb[i])\n",
    "    gmap.scatter(lats_select.values,lons_select.values,c=ptsymb2[i], size=100, marker=False)\n",
    "    #if(i>0):\n",
    "        #gmap.plot(lats_select.values,lons_select.values, edge_width = 2.5)\n",
    "    #x, y = m(lons_select, lats_select)\n",
    "plt.show()\n",
    "gmap.draw(\"C:\\\\Users\\\\user\\\\Desktop\\\\slot2_DBMScluster.html\")\n"
   ]
  },
  {
   "cell_type": "code",
   "execution_count": null,
   "metadata": {},
   "outputs": [],
   "source": []
  }
 ],
 "metadata": {
  "kernelspec": {
   "display_name": "Python 3",
   "language": "python",
   "name": "python3"
  },
  "language_info": {
   "codemirror_mode": {
    "name": "ipython",
    "version": 3
   },
   "file_extension": ".py",
   "mimetype": "text/x-python",
   "name": "python",
   "nbconvert_exporter": "python",
   "pygments_lexer": "ipython3",
   "version": "3.6.5"
  }
 },
 "nbformat": 4,
 "nbformat_minor": 2
}
